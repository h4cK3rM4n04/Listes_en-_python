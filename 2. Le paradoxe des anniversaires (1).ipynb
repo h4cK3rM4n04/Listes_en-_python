{
 "cells": [
  {
   "cell_type": "markdown",
   "metadata": {},
   "source": [
    "<div class = \"alert alert-warning\" align=\"center\"> \n",
    "    <img src=\"https://www.egd.mg/wp-content/uploads/2020/01/cropped-logo-home-110px.png\" align=\"left\" width=\"290\"  margin=\"50px\"> \n",
    "    <center><h1>Lycée français de Tananarive</h1> \n",
    "        <h2> Jupyter Hub,  Spécialité NSI </h2></center>\n",
    "</div>"
   ]
  },
  {
   "cell_type": "markdown",
   "metadata": {
    "deletable": false,
    "editable": false,
    "nbgrader": {
     "cell_type": "markdown",
     "checksum": "012bc4c0f2fdde7bb86c6f396549df65",
     "grade": false,
     "grade_id": "cell-bc204c1d1a544d1d",
     "locked": true,
     "schema_version": 3,
     "solution": false
    }
   },
   "source": [
    "# Utiliser les listes\n",
    "## 1. Position du problème\n",
    "Lorsque l'on réunit **23** personnes, il y a une chance sur deux pour que deux d'entre elles soient nées le même jour. Ce résultat contre intuitif est appelé le *paradoxe des anniversaires*.\n",
    "\n",
    "Nous allons écrire une suite de scripts en Python qui le vérifie expérimentalement.\n",
    "\n",
    "## 2. Vérification expérimentale du paradoxe des anniversaires.\n",
    "## 2.1 Une première solution\n",
    "### 2.1.1 Génération de la liste des anniversaires\n",
    "Générer un tableau de taille 23 avec des dates d'anniversaires tirées au hasard. les dates seront un nombre compris entre 1 et 365. Commençons par importer la bibliothéque random : "
   ]
  },
  {
   "cell_type": "code",
   "execution_count": 11,
   "metadata": {
    "deletable": false,
    "editable": false,
    "nbgrader": {
     "cell_type": "code",
     "checksum": "2156906c1e96d73ffedd31cdf4a18625",
     "grade": false,
     "grade_id": "cell-4cb9d035a1c44de3",
     "locked": true,
     "schema_version": 3,
     "solution": false
    }
   },
   "outputs": [],
   "source": [
    "from random import randint"
   ]
  },
  {
   "cell_type": "markdown",
   "metadata": {
    "deletable": false,
    "editable": false,
    "nbgrader": {
     "cell_type": "markdown",
     "checksum": "76ea03af9ad1849ba0957c9ab3f8a035",
     "grade": false,
     "grade_id": "cell-1ed6396bb5f65d6d",
     "locked": true,
     "schema_version": 3,
     "solution": false
    }
   },
   "source": [
    "Et l'utiliser pour écrire une fonction `genere_dates()` qui renvoie une liste de 23 entiers compris entre 1 et 365."
   ]
  },
  {
   "cell_type": "code",
   "execution_count": 12,
   "metadata": {
    "deletable": false,
    "nbgrader": {
     "cell_type": "code",
     "checksum": "afba2f875fa8443a4fa1527b9325f483",
     "grade": false,
     "grade_id": "cell-28234ff291c601e2",
     "locked": false,
     "schema_version": 3,
     "solution": true
    }
   },
   "outputs": [],
   "source": [
    "def genere_dates() :\n",
    "    # YOUR CODE HERE\n",
    "    return [randint(1,365) for i in range(23)]"
   ]
  },
  {
   "cell_type": "code",
   "execution_count": 13,
   "metadata": {
    "deletable": false,
    "editable": false,
    "nbgrader": {
     "cell_type": "code",
     "checksum": "dfad72ae99f11f2cb187ef292fba83cc",
     "grade": true,
     "grade_id": "cell-4e16daebe01dd1fc",
     "locked": true,
     "points": 2,
     "schema_version": 3,
     "solution": false
    }
   },
   "outputs": [],
   "source": [
    "assert len(genere_dates()) == 23\n",
    "assert max(genere_dates()) <= 365\n",
    "assert min(genere_dates()) >= 1"
   ]
  },
  {
   "cell_type": "markdown",
   "metadata": {
    "deletable": false,
    "editable": false,
    "nbgrader": {
     "cell_type": "markdown",
     "checksum": "dd6c24bf3fd111760ba321c59416ba45",
     "grade": false,
     "grade_id": "cell-fa633404978a45f1",
     "locked": true,
     "schema_version": 3,
     "solution": false
    }
   },
   "source": [
    "### 2.1.2 Vérification de la présence d'un doublet.\n",
    "On désire maintenant écrire une fonction `verification(tab)`qui vérifie si il y a deux dates d'anniversaire identiques dans une liste passée en argument à la fonction. Pour cela on comparera si le premier nombre est identique au suivant, puis on comparera le second élément aux suivant etc ...\n",
    "\n",
    "**Spécification de `verification(tab)`**\n",
    "- Données :\n",
    "    * tab : Une liste de taille variable de nombres entiers.\n",
    "- Valeur retournée :\n",
    "    * True : si la liste contient deux fois le même élèment\n",
    "    * False : si la liste ne contient pas deux fois le même élément.\n"
   ]
  },
  {
   "cell_type": "code",
   "execution_count": 15,
   "metadata": {
    "deletable": false,
    "nbgrader": {
     "cell_type": "code",
     "checksum": "9bf08acb48d5c8a8fb6004e404ad9825",
     "grade": false,
     "grade_id": "cell-421f48ab5b5bad13",
     "locked": false,
     "schema_version": 3,
     "solution": true
    }
   },
   "outputs": [],
   "source": [
    "def verification(tab):\n",
    "    # YOUR CODE HERE\n",
    "    for i in range(len(tab)):\n",
    "        if (nb_occurences(tab[i],tab) > 1):\n",
    "            return True\n",
    "    return False\n",
    "def nb_occurences(n,tab) :\n",
    "    nbre = 0\n",
    "    # YOUR CODE HERE\n",
    "    for i in tab:\n",
    "        if (n == i):\n",
    "            nbre = nbre + 1\n",
    "    return nbre"
   ]
  },
  {
   "cell_type": "code",
   "execution_count": 20,
   "metadata": {},
   "outputs": [],
   "source": [
    "# ou encore\n",
    "def verif(tab):\n",
    "    for x in tab:\n",
    "        if set([num for num in tab if tab.count(x) > 1]) != set():\n",
    "            return True\n",
    "        return False"
   ]
  },
  {
   "cell_type": "code",
   "execution_count": 21,
   "metadata": {
    "deletable": false,
    "editable": false,
    "nbgrader": {
     "cell_type": "code",
     "checksum": "456120a5426a01fb41cbf765e0553b4d",
     "grade": true,
     "grade_id": "cell-b4021bfbf6ff1810",
     "locked": true,
     "points": 2,
     "schema_version": 3,
     "solution": false
    }
   },
   "outputs": [],
   "source": [
    "assert verification([1,2,1,2]) == True\n",
    "assert verification([1,2,3,4,5,6,7,8,9]) == False\n",
    "assert verification([1,2,2,2,2,2,2,1]) == True\n",
    "assert verification([5,4,3,2,1,0]) == False"
   ]
  },
  {
   "cell_type": "markdown",
   "metadata": {
    "deletable": false,
    "editable": false,
    "nbgrader": {
     "cell_type": "markdown",
     "checksum": "d4696dcb494adeb81a51fb623af24821",
     "grade": false,
     "grade_id": "cell-3f5035038fe0afb0",
     "locked": true,
     "schema_version": 3,
     "solution": false
    }
   },
   "source": [
    "### 2.1.3 Vérifications expérimentale du paradoxe des anniversaires.\n",
    "Exécuter la fonction `paradox(n)` qui vérifie n fois si une liste de 23 dates contient un doublons. La fonction retourne le nombre de fois ou un doublon est rencontré."
   ]
  },
  {
   "cell_type": "code",
   "execution_count": 22,
   "metadata": {
    "deletable": false,
    "editable": false,
    "nbgrader": {
     "cell_type": "code",
     "checksum": "5a69582fcf6663f36e39ce474bbc669c",
     "grade": false,
     "grade_id": "cell-243a5aae7d8b70ce",
     "locked": true,
     "schema_version": 3,
     "solution": false
    }
   },
   "outputs": [],
   "source": [
    "def paradox(n) :\n",
    "    cpt = 0\n",
    "    for i in range(n) :\n",
    "        tab = genere_dates()\n",
    "        if verification(tab) == True :\n",
    "            cpt += 1\n",
    "    return(cpt)"
   ]
  },
  {
   "cell_type": "code",
   "execution_count": 19,
   "metadata": {
    "deletable": false,
    "editable": false,
    "nbgrader": {
     "cell_type": "code",
     "checksum": "7076a80349f5cae4fda3a1580f06b70f",
     "grade": false,
     "grade_id": "cell-78c37069119f5ffc",
     "locked": true,
     "schema_version": 3,
     "solution": false
    }
   },
   "outputs": [
    {
     "name": "stdout",
     "output_type": "stream",
     "text": [
      " Pour 500 listes, on trouve  250  listes qui contiennent un doublon\n",
      " Pour 1000 listes, on trouve  519  listes qui contiennent un doublon\n",
      " Pour 10000 listes, on trouve  5170  listes qui contiennent un doublon\n"
     ]
    }
   ],
   "source": [
    "print (\" Pour 500 listes, on trouve \",paradox(500),\" listes qui contiennent un doublon\")\n",
    "print (\" Pour 1000 listes, on trouve \",paradox(1000),\" listes qui contiennent un doublon\")\n",
    "print (\" Pour 10000 listes, on trouve \",paradox(10000),\" listes qui contiennent un doublon\")"
   ]
  },
  {
   "cell_type": "code",
   "execution_count": null,
   "metadata": {},
   "outputs": [],
   "source": []
  }
 ],
 "metadata": {
  "kernelspec": {
   "display_name": "Python 3 (ipykernel)",
   "language": "python",
   "name": "python3"
  },
  "language_info": {
   "codemirror_mode": {
    "name": "ipython",
    "version": 3
   },
   "file_extension": ".py",
   "mimetype": "text/x-python",
   "name": "python",
   "nbconvert_exporter": "python",
   "pygments_lexer": "ipython3",
   "version": "3.10.4"
  },
  "latex_envs": {
   "LaTeX_envs_menu_present": true,
   "autoclose": false,
   "autocomplete": true,
   "bibliofile": "biblio.bib",
   "cite_by": "apalike",
   "current_citInitial": 1,
   "eqLabelWithNumbers": true,
   "eqNumInitial": 1,
   "hotkeys": {
    "equation": "Ctrl-E",
    "itemize": "Ctrl-I"
   },
   "labels_anchors": false,
   "latex_user_defs": false,
   "report_style_numbering": false,
   "user_envs_cfg": false
  }
 },
 "nbformat": 4,
 "nbformat_minor": 2
}
